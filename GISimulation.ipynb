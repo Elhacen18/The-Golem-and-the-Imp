{
 "cells": [
  {
   "cell_type": "code",
   "execution_count": 30,
   "id": "6259f1fa-5b45-4bba-84ad-02ebbb9c2d7b",
   "metadata": {},
   "outputs": [
    {
     "name": "stdout",
     "output_type": "stream",
     "text": [
      "G's :0  I's : 5\n",
      "G----I--------------------------------------------X  0S\n",
      "G's :5  I's : 12\n",
      "-----G------I-------------------------------------X  1S\n",
      "G's :10  I's : 16\n",
      "----------G-----I---------------------------------X  2S\n",
      "G's :15  I's : 18\n",
      "---------------G--I-------------------------------X  3S\n",
      "G's :19  I's : 23\n",
      "-------------------G---I--------------------------X  4S\n",
      "G's :24  I's : 26\n",
      "------------------------G-I-----------------------X  5S\n",
      "G's :27  I's : 28\n",
      "---------------------------GI---------------------X  6S\n",
      "G's :30  I's : 32\n",
      "------------------------------G-I-----------------X  7S\n",
      "G's :34  I's : 39\n",
      "----------------------------------G----I----------X  8S\n",
      "G's :38  I's : 47\n",
      "--------------------------------------G--------I--X  9S\n",
      "\n",
      "THE IMP HAS ESCAPED TO FREEDOM AFTER 10 SECONDS. MISCHIEF AND TRICKERY AWAIT!\n"
     ]
    }
   ],
   "source": [
    "import time\n",
    "import random \n",
    "Tunnel_Distance = 50\n",
    "I_current_position = 0\n",
    "G_current_position = 0\n",
    "second_passed = 0\n",
    "i_distance = 5\n",
    "G_distance = 0\n",
    "x=' '\n",
    "dash = '-'\n",
    "tunnel=[dash]*Tunnel_Distance\n",
    "while 1:\n",
    "    G_current_position +=G_distance\n",
    "    I_current_position += i_distance\n",
    "    \n",
    "    if(I_current_position>=Tunnel_Distance) :\n",
    "        print(f\"\\nTHE IMP HAS ESCAPED TO FREEDOM AFTER {second_passed} SECONDS. MISCHIEF AND TRICKERY AWAIT!\")\n",
    "        break\n",
    "    if(G_current_position>=I_current_position):#if the golem’s position overtakes (>=) the imp’s position beforehand, the imp is captured and its fun ends.\n",
    "        print(f\"\\nSADLY, IT’S BACK TO THE TOWER FOR THE IMP AFTER A {second_passed} SECOND-CHASE.\")\n",
    "        break\n",
    "   \n",
    "   # print(f\"G's :{G_current_position}\"+x*2+f\"I's : {I_current_position}\")\n",
    "    \n",
    "    tunnel[I_current_position]='I'\n",
    "    tunnel[G_current_position]='G'\n",
    "    \n",
    "    formatted_output = ''.join(tunnel)# Remove the single quotes and commas when printing the array. Ex: ['-','-'] --> - - \n",
    "    print(f\"{formatted_output}\"+\"X\"+x*2+f\"{second_passed}S\")\n",
    "    \n",
    "    i_distance = random.randint(1, 9) \n",
    "    G_distance = random.randint(3, 5) \n",
    "    time.sleep(1)\n",
    "    second_passed= second_passed + 1\n",
    "    tunnel[I_current_position]='-'\n",
    "    tunnel[G_current_position]='-'\n",
    "\n"
   ]
  },
  {
   "cell_type": "code",
   "execution_count": null,
   "id": "74b22d3b-6629-459d-bd8f-283995b11767",
   "metadata": {},
   "outputs": [],
   "source": []
  },
  {
   "cell_type": "code",
   "execution_count": null,
   "id": "f84b2642-a069-4a57-8a70-c7cffe2de266",
   "metadata": {},
   "outputs": [],
   "source": []
  }
 ],
 "metadata": {
  "kernelspec": {
   "display_name": "Python 3 (ipykernel)",
   "language": "python",
   "name": "python3"
  },
  "language_info": {
   "codemirror_mode": {
    "name": "ipython",
    "version": 3
   },
   "file_extension": ".py",
   "mimetype": "text/x-python",
   "name": "python",
   "nbconvert_exporter": "python",
   "pygments_lexer": "ipython3",
   "version": "3.11.7"
  }
 },
 "nbformat": 4,
 "nbformat_minor": 5
}
